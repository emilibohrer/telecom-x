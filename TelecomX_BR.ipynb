{
  "cells": [
    {
      "cell_type": "markdown",
      "metadata": {
        "id": "4foVEKhrlqcH"
      },
      "source": [
        "# 📌 Extracão"
      ]
    },
    {
      "cell_type": "code",
      "execution_count": null,
      "metadata": {
        "id": "1--uPM88l7JH"
      },
      "outputs": [],
      "source": [
        "import pandas as pd\n",
        "\n",
        "#Buscando a base de dados\n",
        "url = 'https://raw.githubusercontent.com/alura-cursos/challenge2-data-science/refs/heads/main/TelecomX_Data.json'\n",
        "df = pd.read_json(url)\n",
        "\n",
        "df.head()"
      ]
    },
    {
      "cell_type": "code",
      "execution_count": null,
      "metadata": {},
      "outputs": [],
      "source": [
        "df.info()"
      ]
    },
    {
      "cell_type": "code",
      "execution_count": null,
      "metadata": {},
      "outputs": [],
      "source": [
        "df_customer = pd.json_normalize(df['customer'])\n",
        "df_internet = pd.json_normalize(df['internet'])\n",
        "df_account = pd.json_normalize(df['account'])\n",
        "df_phone = pd.json_normalize(df['phone'])\n",
        "\n",
        "df_main = df[['customerID', 'Churn']]\n",
        "\n",
        "df_final = pd.concat([df_main, df_customer, df_phone, df_internet, df_account], axis=1)"
      ]
    },
    {
      "cell_type": "code",
      "execution_count": null,
      "metadata": {},
      "outputs": [],
      "source": [
        "df_final.head()"
      ]
    },
    {
      "cell_type": "code",
      "execution_count": null,
      "metadata": {},
      "outputs": [],
      "source": [
        "df_final.info()"
      ]
    },
    {
      "cell_type": "code",
      "execution_count": null,
      "metadata": {},
      "outputs": [],
      "source": [
        "print('INFORMAÇÕES DA BASE DE DADOS')\n",
        "print(f'Nº Linhas: {df_final.shape[0]}')\n",
        "print(f'Nº Colunas: {df_final.shape[1]}')"
      ]
    },
    {
      "cell_type": "code",
      "execution_count": null,
      "metadata": {
        "id": "bsm-WTLjmHvt"
      },
      "outputs": [],
      "source": [
        "df_final.to_csv('TelecomX_Dados.csv', index=False)"
      ]
    },
    {
      "cell_type": "markdown",
      "metadata": {
        "id": "1lSZP8zmmGZu"
      },
      "source": [
        "# 🔧 Transformação"
      ]
    },
    {
      "cell_type": "code",
      "execution_count": null,
      "metadata": {},
      "outputs": [],
      "source": [
        "df_base = pd.read_csv('TelecomX_Dados.csv')"
      ]
    },
    {
      "cell_type": "code",
      "execution_count": null,
      "metadata": {},
      "outputs": [],
      "source": [
        "# Normalizando nomes das colunas\n",
        "df_base.columns = df_base.columns.str.lower()\n",
        "\n",
        "# Traduzindo nomes das colunas\n",
        "# A tradução é feita para facilitar a compreensão, mas pode ser ajustada conforme necessário\n",
        "traducao_colunas = {\n",
        "    'customerid': 'id_cliente',\n",
        "    'gender': 'genero',\n",
        "    'seniorcitizen': 'idoso',\n",
        "    'partner': 'tem_conjuge',\n",
        "    'dependents': 'dependentes',\n",
        "    'tenure': 'tempo_de_contrato',\n",
        "    'phoneservice': 'servico_telefone',\n",
        "    'multiplelines': 'multiplas_linhas',\n",
        "    'internetservice': 'servico_internet',\n",
        "    'onlinesecurity': 'seguranca_online',\n",
        "    'onlinebackup': 'backup_online',\n",
        "    'deviceprotection': 'protecao_aparelho',\n",
        "    'techsupport': 'suporte_tecnico',\n",
        "    'streamingtv': 'tv_streaming',\n",
        "    'streamingmovies': 'filmes_streaming',\n",
        "    'contract': 'contrato',\n",
        "    'paperlessbilling': 'fatura_digital',\n",
        "    'paymentmethod': 'metodo_pagamento',\n",
        "    'charges.monthly': 'cobranca_mensal',\n",
        "    'charges.total': 'cobranca_total'\n",
        "}\n",
        "df_base.rename(columns=traducao_colunas, inplace=True)\n",
        "\n",
        "traducao_contratos = {\n",
        "    'One year': 'anual',\n",
        "    'Month-to-month': 'mensal',\n",
        "    'Two year': 'bianual'\n",
        "}\n",
        "df_base['contrato'] = df_base['contrato'].replace(traducao_contratos)\n",
        "\n",
        "traducao_pagamentos = {\n",
        "    'Mailed check': 'Cheque enviado pelo correio',\n",
        "    'Electronic check': 'Cheque eletronico',\n",
        "    'Credit card (automatic)': 'Cartao de crédito (automatico)',\n",
        "    'Bank transfer (automatic)': 'Transferencia bancaria (automatica)'\n",
        "}\n",
        "df_base['metodo_pagamento'] = df_base['metodo_pagamento'].replace(traducao_pagamentos)\n",
        "\n",
        "traducao_internet = {\n",
        "    'DSL': 'DSL',\n",
        "    'Fiber optic': 'Fibra optica',\n",
        "    'No': 'Sem servico de internet'\n",
        "}\n",
        "df_base['servico_internet'] = df_base['servico_internet'].replace(traducao_internet)\n",
        "\n",
        "traducao_genero = {\n",
        "    'Female': 'Feminino',\n",
        "    'Male': 'Masculino'\n",
        "}\n",
        "df_base['genero'] = df_base['genero'].replace(traducao_genero)"
      ]
    },
    {
      "cell_type": "code",
      "execution_count": null,
      "metadata": {},
      "outputs": [],
      "source": [
        "# Removendo linhas duplicadas\n",
        "linhas_duplicadas = df_base[df_base.duplicated()]\n",
        "percentual_linhas_duplicadas = (len(linhas_duplicadas) / df_base.shape[0]) * 100\n",
        "print(f\"Número de linhas duplicadas: {len(linhas_duplicadas)} - {percentual_linhas_duplicadas:.2f}%\")\n",
        "df_base = df_base.drop_duplicates()\n",
        "\n",
        "# Conversão de tipo\n",
        "df_base['cobranca_total'] = pd.to_numeric(df_base['cobranca_total'], errors='coerce')\n",
        "\n",
        "# Verificando valor nulos\n",
        "linhas_com_nulo = df_base[df_base.isnull().any(axis=1)]\n",
        "percentual_linhas_nulas = (len(linhas_com_nulo) / df_base.shape[0]) * 100\n",
        "print(f\"Número de linhas com algum valor nulo: {len(linhas_com_nulo)} - {percentual_linhas_nulas:.2f}%\")\n",
        "\n",
        "df_base = df_base.dropna()\n",
        "\n",
        "# Normalizando colunas de binárias\n",
        "colunas_yes_no = ['churn','tem_conjuge','dependentes','servico_telefone','fatura_digital']\n",
        "df_base[colunas_yes_no] = df_base[colunas_yes_no].apply(lambda x: x.str.lower())\n",
        "df_base[colunas_yes_no] = df_base[colunas_yes_no].replace({'yes': 1, 'no': 0})\n",
        "df_base[colunas_yes_no] = df_base[colunas_yes_no].apply(lambda x: x.astype(int))"
      ]
    },
    {
      "cell_type": "code",
      "execution_count": null,
      "metadata": {},
      "outputs": [],
      "source": [
        "# Criando coluna de cobrança diária\n",
        "# Considerando 30 dias para o cálculo\n",
        "df_base['cobranca_diaria'] = df_base['cobranca_mensal'] / 30"
      ]
    },
    {
      "cell_type": "code",
      "execution_count": null,
      "metadata": {},
      "outputs": [],
      "source": [
        "print(f'TOTAL DE LINHAS: {df_base.shape[0]}')\n",
        "print(f'TOTAL DE COLUNAS: {df_base.shape[1]}')"
      ]
    },
    {
      "cell_type": "code",
      "execution_count": null,
      "metadata": {},
      "outputs": [],
      "source": [
        "# Salvando a base de dados limpa\n",
        "df_base.to_csv('TelecomX_Dados_Limpos.csv', index=False)"
      ]
    },
    {
      "cell_type": "markdown",
      "metadata": {
        "id": "6XnTC2NTmMRL"
      },
      "source": [
        "# 📊 Carga e análise"
      ]
    },
    {
      "cell_type": "code",
      "execution_count": null,
      "metadata": {},
      "outputs": [],
      "source": [
        "import matplotlib.pyplot as plt\n",
        "import seaborn as sns\n",
        "from collections import OrderedDict\n",
        "\n",
        "import matplotlib.pyplot as plt\n",
        "import pandas as pd"
      ]
    },
    {
      "cell_type": "code",
      "execution_count": null,
      "metadata": {},
      "outputs": [],
      "source": [
        "# Carregando a base de dados limpa\n",
        "df_base = pd.read_csv('TelecomX_Dados_Limpos.csv')"
      ]
    },
    {
      "cell_type": "code",
      "execution_count": null,
      "metadata": {},
      "outputs": [],
      "source": [
        "def plot_pizza_churn(df_base, coluna, cores, titulo_pizza, titulo_barras, titulo_legenda):\n",
        "    \"\"\"\n",
        "    Plota um gráfico de pizza e um gráfico de barras para a coluna especificada.\n",
        "    \"\"\"\n",
        "    # Definindo ordem desejada e cores associadas\n",
        "    tipos = df_base[coluna].unique()\n",
        "\n",
        "    # Dados para gráfico de pizza (distribuição de gênero)\n",
        "    counts = df_base[coluna].value_counts().sort_values()\n",
        "    counts = counts.reindex(tipos)\n",
        "\n",
        "    # Dados para gráfico de barras (churn por gênero em %)\n",
        "    churn = (\n",
        "        df_base\n",
        "        .groupby(['churn', coluna])\n",
        "        .size()\n",
        "        .groupby(level=0)\n",
        "        .apply(lambda x: 100 * x / x.sum())\n",
        "        .unstack(coluna) \n",
        "    )\n",
        "\n",
        "    churn.index = churn.index.droplevel(0)\n",
        "    churn.index = churn.index.map({0: 'Não churn', 1: 'Churn'})\n",
        "    churn.columns.name = None\n",
        "    churn = churn[tipos]\n",
        "\n",
        "    # Criação do gráfico\n",
        "    fig, axs = plt.subplots(1, 2, figsize=(10, 5))\n",
        "\n",
        "    churn.plot(kind='bar', stacked=False, ax=axs[1], color=cores)\n",
        "\n",
        "    # Gráfico de pizza\n",
        "    axs[0].pie(counts, labels=counts.index, autopct='%1.1f%%', colors=cores, startangle=90)\n",
        "    axs[0].set_title(titulo_pizza, fontsize=14)\n",
        "    axs[0].axis('equal')\n",
        "\n",
        "    # Título e eixos\n",
        "    axs[1].set_title(titulo_barras, fontsize=14)\n",
        "    axs[1].set_ylabel('Percentual (%)')\n",
        "    axs[1].set_xlabel('')  # Remove xlabel para evitar duplicação\n",
        "\n",
        "    # Ajuste visual: remove eixo Y, grid e bordas\n",
        "    axs[1].get_yaxis().set_visible(False)\n",
        "    axs[1].grid(False)\n",
        "    for spine in ['top', 'right', 'left']:\n",
        "        axs[1].spines[spine].set_visible(False)\n",
        "    axs[1].tick_params(axis='x', rotation=0)\n",
        "\n",
        "    # Adicionar valor nas barras\n",
        "    for container in axs[1].containers:\n",
        "        axs[1].bar_label(container, fmt='%.1f%%', label_type='edge', fontsize=10)\n",
        "\n",
        "    handles, labels = axs[1].get_legend_handles_labels()\n",
        "    by_label = dict(zip(labels, handles))\n",
        "\n",
        "    axs[1].legend(\n",
        "        by_label.values(),\n",
        "        by_label.keys(),\n",
        "        title=titulo_legenda,\n",
        "        bbox_to_anchor=(0.98, 0.98)\n",
        "    )\n",
        "\n",
        "    plt.tight_layout()\n",
        "    plt.show()\n",
        "\n",
        "def plot_barra_churn(df_base, coluna, cores, titulo_barra1, titulo_barra2, titulo_legenda):\n",
        "    \"\"\"\n",
        "    Plota um gráfico de pizza e um gráfico de barras para a coluna especificada.\n",
        "    \"\"\"\n",
        "    # Definindo ordem desejada e cores associadas\n",
        "    tipos = df_base[coluna].unique()\n",
        "\n",
        "    # Dados para gráfico de pizza (distribuição de gênero)\n",
        "    counts = df_base[coluna].value_counts(normalize=True).sort_values()\n",
        "    counts = counts.reindex(tipos)\n",
        "    counts = counts.to_frame().T\n",
        "    counts.values[0] = counts.values[0]*100\n",
        "    counts = counts.sort_values(by=counts.index[0], axis=1, ascending=False)\n",
        "    counts = counts.rename(index={'proportion': titulo_legenda})\n",
        "\n",
        "    # Dados para gráfico de barras (churn por gênero em %)\n",
        "    churn = (\n",
        "        df_base\n",
        "        .groupby(['churn', coluna])\n",
        "        .size()\n",
        "        .groupby(level=0)\n",
        "        .apply(lambda x: 100 * x / x.sum())\n",
        "        .unstack(coluna) \n",
        "    )\n",
        "\n",
        "    churn.index = churn.index.droplevel(0)\n",
        "    churn.index = churn.index.map({0: 'Não churn', 1: 'Churn'})\n",
        "    churn.columns.name = None\n",
        "    churn = churn[tipos]\n",
        "\n",
        "    # Criação do gráfico\n",
        "    fig, axs = plt.subplots(1, 2, figsize=(15, 5))\n",
        "\n",
        "    counts.plot(kind='bar', stacked=False, ax=axs[0], color=cores)\n",
        "\n",
        "    axs[0].set_title(titulo_barra1, fontsize=14)\n",
        "    axs[0].set_ylabel('Percentual (%)')\n",
        "    axs[0].set_xlabel('') \n",
        "    axs[0].get_yaxis().set_visible(False)\n",
        "    axs[0].grid(False)\n",
        "    axs[0].tick_params(axis='x', rotation=0)\n",
        "\n",
        "    for spine in ['top', 'right', 'left']:\n",
        "        axs[0].spines[spine].set_visible(False)\n",
        "    \n",
        "\n",
        "    # Adicionar valor nas barras\n",
        "    for container in axs[0].containers:\n",
        "        axs[0].bar_label(container, fmt='%.1f%%', label_type='edge', fontsize=10)\n",
        "\n",
        "    if axs[0].get_legend():\n",
        "        axs[0].get_legend().remove()\n",
        "\n",
        "\n",
        "    churn.plot(kind='bar', stacked=False, ax=axs[1], color=cores)\n",
        "\n",
        "    axs[1].set_title(titulo_barra2, fontsize=14)\n",
        "    axs[1].set_ylabel('Percentual (%)')\n",
        "    axs[1].set_xlabel('')  \n",
        "    axs[1].get_yaxis().set_visible(False)\n",
        "    axs[1].grid(False)\n",
        "    axs[1].tick_params(axis='x', rotation=0)\n",
        "\n",
        "    for spine in ['top', 'right', 'left']:\n",
        "        axs[1].spines[spine].set_visible(False)\n",
        "\n",
        "    for container in axs[1].containers:\n",
        "        axs[1].bar_label(container, fmt='%.0f%%', label_type='edge', fontsize=9)\n",
        "\n",
        "    handles, labels = axs[1].get_legend_handles_labels()\n",
        "    by_label = dict(zip(labels, handles))\n",
        "\n",
        "    axs[1].legend(\n",
        "        by_label.values(),\n",
        "        by_label.keys(),\n",
        "        title=titulo_legenda,\n",
        "        bbox_to_anchor=(0.98, 0.98)\n",
        "    )\n",
        "\n",
        "    plt.tight_layout()\n",
        "    plt.show()\n",
        "\n",
        "def plot_boxplot(df_base, x, y, titulo, label, cores):\n",
        "    plt.figure(figsize=(8, 5))\n",
        "\n",
        "    # Desenha o boxplot primeiro\n",
        "    sns.boxplot(\n",
        "        x=x,\n",
        "        y=y,\n",
        "        hue='churn',\n",
        "        data=df_base,\n",
        "        palette=cores,\n",
        "        linewidth=1.5,\n",
        "        fliersize=4,\n",
        "        boxprops=dict(alpha=0.8),\n",
        "        legend=False\n",
        "    )\n",
        "\n",
        "    # Calcula os valores\n",
        "    medias = df_base.groupby('churn')[y].mean()\n",
        "    medianas = df_base.groupby('churn')[y].median()\n",
        "\n",
        "    # Agora os marcadores vêm por cima!\n",
        "    for i in range(2):  # churn: 0 ou 1\n",
        "        plt.scatter(i, medias[i], color='black', marker='D', s=40, zorder=5, label='Média' if i == 0 else \"\")\n",
        "\n",
        "    # Título e rótulos\n",
        "    plt.title(titulo, fontsize=14, weight='bold')\n",
        "    plt.xlabel('')\n",
        "    plt.ylabel(label, fontsize=12)\n",
        "    plt.xticks([0, 1], ['Não Churn', 'Churn'], fontsize=11)\n",
        "\n",
        "    sns.despine()\n",
        "    plt.grid(axis='y', linestyle='--', alpha=0.3)\n",
        "    plt.legend(loc='upper right')\n",
        "\n",
        "    plt.tight_layout()\n",
        "    plt.show()"
      ]
    },
    {
      "cell_type": "code",
      "execution_count": null,
      "metadata": {
        "id": "XMTac0YJmeK9"
      },
      "outputs": [],
      "source": [
        "cores = ['#FF69B4', '#6495ED']\n",
        "\n",
        "titulo_barras = 'Churn por Gênero (%)'\n",
        "titulo_pizza = 'Distribuição de Gênero'\n",
        "titulo_legenda = 'Gênero'\n",
        "coluna = 'genero'\n",
        "\n",
        "plot_pizza_churn(df_base, coluna, cores, titulo_pizza, titulo_barras, titulo_legenda)"
      ]
    },
    {
      "cell_type": "code",
      "execution_count": null,
      "metadata": {},
      "outputs": [],
      "source": [
        "cores = ['#8A9A5B', '#87CEEB','#36454F' ]\n",
        "\n",
        "titulo_barras = 'Churn por Contrato (%)'\n",
        "titulo_pizza = 'Distribuição de Contrato'\n",
        "titulo_legenda = 'Contrato'\n",
        "coluna = 'contrato'\n",
        "\n",
        "plot_pizza_churn(df_base, coluna, cores, titulo_pizza, titulo_barras, titulo_legenda)"
      ]
    },
    {
      "cell_type": "code",
      "execution_count": null,
      "metadata": {},
      "outputs": [],
      "source": [
        "cores = ['#722F37', '#FA8072']\n",
        "\n",
        "titulo_barras = 'Churn Idoso (%)'\n",
        "titulo_pizza = 'Distribuição Idoso'\n",
        "titulo_legenda = 'Idoso'\n",
        "coluna = 'idoso'\n",
        "\n",
        "df = df_base.copy()\n",
        "df[coluna].replace({0: 'Não Idoso', 1: 'Idoso'}, inplace=True)\n",
        "\n",
        "plot_pizza_churn(df, coluna, cores, titulo_pizza, titulo_barras, titulo_legenda)\n"
      ]
    },
    {
      "cell_type": "code",
      "execution_count": null,
      "metadata": {},
      "outputs": [],
      "source": [
        "cores = ['#084D6E', '#FF7F50', '#8A9A5B']  \n",
        "\n",
        "titulo_barras = 'Churn por Tipo de Internet (%)'\n",
        "titulo_pizza = 'Distribuição por Tipo de Internet'\n",
        "titulo_legenda = 'Servico Internet'\n",
        "coluna = 'servico_internet'\n",
        "\n",
        "plot_pizza_churn(df_base, coluna, cores, titulo_pizza, titulo_barras, titulo_legenda)"
      ]
    },
    {
      "cell_type": "code",
      "execution_count": null,
      "metadata": {},
      "outputs": [],
      "source": [
        "cores = ['#4F6D7A', '#F2E8CF']  \n",
        "\n",
        "titulo_barras = 'Churn Existência de Cônjuge (%)'\n",
        "titulo_pizza = 'Distribuição Existência de Cônjuge'\n",
        "titulo_legenda = 'Cônjuge'\n",
        "coluna = 'tem_conjuge'\n",
        "\n",
        "df = df_base.copy()\n",
        "df[coluna].replace({0: 'Não', 1: 'Sim'}, inplace=True)\n",
        "\n",
        "plot_pizza_churn(df, coluna, cores, titulo_pizza, titulo_barras, titulo_legenda)"
      ]
    },
    {
      "cell_type": "code",
      "execution_count": null,
      "metadata": {},
      "outputs": [],
      "source": [
        "cores = [ '#6D2E46', '#C0C0C0' ]\n",
        "\n",
        "titulo_barras = 'Churn Existência de Dependentes (%)'\n",
        "titulo_pizza = 'Distribuição Existência de Depedentes'\n",
        "titulo_legenda = 'Dependentes'\n",
        "coluna = 'dependentes'\n",
        "\n",
        "df = df_base.copy()\n",
        "df[coluna].replace({0: 'Não', 1: 'Sim'}, inplace=True)\n",
        "\n",
        "plot_pizza_churn(df, coluna, cores, titulo_pizza, titulo_barras, titulo_legenda)"
      ]
    },
    {
      "cell_type": "code",
      "execution_count": null,
      "metadata": {},
      "outputs": [],
      "source": [
        "cores = [ '#084D6E', '#C0C0C0', '#757575','#2E2E2E' ]\n",
        "\n",
        "titulo_churn = 'Churn por Método de Pagamento (%)'\n",
        "titulo_barra = 'Distribuição por Método de Pagamento'\n",
        "titulo_legenda = 'Metodo Pagamento'\n",
        "coluna = 'metodo_pagamento'\n",
        "\n",
        "plot_barra_churn(df_base, coluna, cores, titulo_churn, titulo_barra, titulo_legenda)"
      ]
    },
    {
      "cell_type": "code",
      "execution_count": null,
      "metadata": {},
      "outputs": [],
      "source": [
        "cores = ['#8ECAE6', '#219EBC']\n",
        "\n",
        "x = 'churn'\n",
        "y = 'tempo_de_contrato'\n",
        "titulo = 'Tempo de Contrato X Churn'\n",
        "label = 'Tempo de Contrato (meses)'\n",
        "\n",
        "plot_boxplot(df_base, x, y, titulo, label, cores)"
      ]
    },
    {
      "cell_type": "code",
      "execution_count": null,
      "metadata": {},
      "outputs": [],
      "source": [
        "cores = ['#8ECAE6', '#219EBC']\n",
        "\n",
        "x = 'churn'\n",
        "y = 'cobranca_total'\n",
        "titulo = 'Cobrança Total X Churn'\n",
        "label = 'Cobrança Total'\n",
        "\n",
        "plot_boxplot(df_base, x, y, titulo, label, cores)"
      ]
    },
    {
      "cell_type": "code",
      "execution_count": null,
      "metadata": {},
      "outputs": [],
      "source": [
        "cores = ['#8ECAE6', '#219EBC']\n",
        "\n",
        "x = 'churn'\n",
        "y = 'tempo_de_contrato'\n",
        "titulo = 'Tempo de Contrato X Churn'\n",
        "label = 'Tempo de Contrato'\n",
        "\n",
        "plot_boxplot(df_base, x, y, titulo, label, cores)"
      ]
    },
    {
      "cell_type": "code",
      "execution_count": null,
      "metadata": {},
      "outputs": [],
      "source": [
        "cores = ['#8ECAE6', '#219EBC']\n",
        "\n",
        "x = 'churn'\n",
        "y = 'cobranca_total'\n",
        "titulo = 'Cobrança total X Churn'\n",
        "label = 'Cobrança total'\n",
        "\n",
        "plot_boxplot(df_base, x, y, titulo, label, cores)"
      ]
    },
    {
      "cell_type": "markdown",
      "metadata": {
        "id": "v-WzfSvTmaw9"
      },
      "source": [
        "# 📄Relatorio Final"
      ]
    },
    {
      "cell_type": "markdown",
      "metadata": {},
      "source": [
        "A evasão de clientes — conhecida como churn — representa um dos maiores obstáculos para empresas de telecomunicações, impactando diretamente a sustentabilidade do negócio. Este estudo tem como foco a análise dos padrões de cancelamento de clientes da TelecomX a partir de dados reais. Ao compreender as variáveis que influenciam o churn, a empresa poderá desenvolver estratégias mais eficazes de retenção, melhorar a experiência do usuário e minimizar perdas financeiras."
      ]
    },
    {
      "cell_type": "markdown",
      "metadata": {},
      "source": [
        "## Limpeza e Tratamento de Dados\n",
        "\n",
        "**Padronização de Colunas**\n",
        "- Todas as colunas foram convertidas para letras minúsculas.\n",
        "- Os nomes técnicos foram traduzidos para português, com o objetivo de facilitar a interpretação e análise dos dados.\n",
        "\n",
        "**Tratamento de Valores Categóricos**\n",
        "- Tradução dos valores nas colunas:\n",
        "  - `contrato`: 'Month-to-month', 'One year', 'Two year' → 'mensal', 'anual', 'bianual'.\n",
        "  - `metodo_pagamento`: tradução de métodos como 'Electronic check', 'Mailed check', etc.\n",
        "  - `servico_internet`: tradução de 'DSL', 'Fiber optic', 'No'.\n",
        "  - `genero`: 'Male', 'Female' → 'Masculino', 'Feminino'.\n",
        "\n",
        "**Remoção de Dados Duplicados e Nulos**\n",
        "- Identificação e remoção de linhas duplicadas.\n",
        "- Conversão da coluna `cobranca_total` para tipo numérico com tratamento de erros.\n",
        "- Detecção de valores nulos e exclusão de registros incompletos.\n",
        "\n",
        "**Normalização de Variáveis Binárias**\n",
        "- Colunas como `churn`, `tem_conjuge`, `dependentes`, `servico_telefone` e `fatura_digital` foram convertidas:\n",
        "  - Texto em minúsculo: 'yes' / 'no' → 'yes' / 'no'.\n",
        "  - Transformação em variáveis binárias numéricas: 1 para “sim”, 0 para “não”."
      ]
    },
    {
      "cell_type": "markdown",
      "metadata": {},
      "source": [
        "## Análise \n",
        "\n",
        "Durante a análise exploratória, foram utilizados gráficos de pizza, barras e boxplots para investigar os principais fatores relacionados ao churn (evasão) dos clientes da TelecomX. As visualizações permitiram identificar padrões relevantes:\n",
        "\n",
        "- ***Gênero:*** A distribuição entre masculino e feminino é equilibrada, e o churn não apresenta diferença significativa entre os gêneros.  \n",
        "- ***Contrato:*** Clientes com contrato mensal apresentam taxas de churn muito superiores aos contratos anual e bianual, indicando maior risco de evasão nesse grupo.  \n",
        "- **Idosos:** A proporção de churn é maior entre clientes idosos, sugerindo que esse público pode demandar atenção especial.\n",
        "- **Tipo de Internet:** Clientes sem serviço de internet têm menor churn, enquanto usuários de fibra óptica apresentam taxas mais elevadas.  \n",
        "- **Cônjuge e Dependentes:** Clientes sem cônjuge ou dependentes tendem a apresentar maior churn.  \n",
        "- **Método de Pagamento:** Métodos como cheque eletrônico estão associados a maior churn, enquanto transferência bancária automática apresenta menor evasão.  \n",
        "- **Tempo de Contrato e Cobrança Total:** Boxplots mostram que clientes com menor tempo de contrato e menor cobrança total têm maior propensão ao churn."
      ]
    },
    {
      "cell_type": "markdown",
      "metadata": {},
      "source": [
        "## Conclusões e Insights\n",
        "\n",
        "- `Cobrança mensal` são o principal fator de risco para churn. Estratégias de retenção devem focar nesse grupo.\n",
        "- Clientes `idosos` e sem vínculos familiares (`cônjuge` e/ou `dependentes`) estão mais propensos a cancelar.\n",
        "- `Métodos de pagamento` automáticos (transferência bancária) reduzem a evasão.\n",
        "- Menor `tempo de contrato` e baixa cobrança total indicam clientes menos engajados, com maior chance de churn.\n",
        "- `Tipo de serviço de internet` influencia a evasão, especialmente para fibra óptica."
      ]
    },
    {
      "cell_type": "markdown",
      "metadata": {},
      "source": [
        "## Recomendações\n",
        "\n",
        "- Oferecer benefícios para contratos de longo prazo: Incentive a migração de clientes mensais para planos anual/bianual com descontos ou vantagens.\n",
        "- Criar campanhas de retenção para idosos: Desenvolver atendimento personalizado e benefícios para esse público.\n",
        "- Facilitar métodos de pagamento automáticos: Promover a adesão à transferência bancária automática, reduzindo o churn.\n",
        "- Aumentar o engajamento de novos clientes: Oferecer onboarding, suporte e benefícios nos primeiros meses para aumentar o tempo de contrato.\n",
        "- Personalizar ofertas para clientes sem vínculos familiares: Identificar e oferecer vantagens específicas para clientes sem cônjuge ou dependentes.\n",
        "- Monitorar clientes de fibra óptica: Investigar causas de insatisfação e promover melhorias nesse serviço."
      ]
    },
    {
      "cell_type": "markdown",
      "metadata": {},
      "source": [
        "# Correlação entre as variáveis"
      ]
    }
  ],
  "metadata": {
    "colab": {
      "provenance": []
    },
    "kernelspec": {
      "display_name": "Python 3",
      "name": "python3"
    },
    "language_info": {
      "codemirror_mode": {
        "name": "ipython",
        "version": 3
      },
      "file_extension": ".py",
      "mimetype": "text/x-python",
      "name": "python",
      "nbconvert_exporter": "python",
      "pygments_lexer": "ipython3",
      "version": "3.11.9"
    }
  },
  "nbformat": 4,
  "nbformat_minor": 0
}
